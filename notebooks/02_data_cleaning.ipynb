{
 "cells": [
  {
   "cell_type": "markdown",
   "id": "12e335a7-dea4-43e7-919b-0fe097971009",
   "metadata": {},
   "source": [
    "# 1. Initial Setup and Re-Loading the Data"
   ]
  },
  {
   "cell_type": "code",
   "execution_count": 1,
   "id": "ec8d0895-6e7f-45de-89af-8e23cbd94bb3",
   "metadata": {},
   "outputs": [],
   "source": [
    "# Import necessary libraries\n",
    "import pandas as pd\n",
    "import numpy as np\n",
    "import matplotlib.pyplot as plt\n",
    "import seaborn as sns"
   ]
  },
  {
   "cell_type": "code",
   "execution_count": 2,
   "id": "0617856f-b65a-45ce-9383-88b747d11107",
   "metadata": {},
   "outputs": [],
   "source": [
    "# Set plotting style for better visuals\n",
    "sns.set_style('whitegrid')"
   ]
  },
  {
   "cell_type": "code",
   "execution_count": 3,
   "id": "cdc7bbda-1ebc-43f4-b823-4a99d10e884c",
   "metadata": {},
   "outputs": [
    {
     "data": {
      "text/plain": [
       "'C:\\\\Users\\\\ssaja\\\\OneDrive\\\\Desktop\\\\Courses_Projects\\\\Projects\\\\ecommerce-customer-analysis\\\\notebooks'"
      ]
     },
     "execution_count": 3,
     "metadata": {},
     "output_type": "execute_result"
    }
   ],
   "source": [
    "import os\n",
    "os.getcwd()"
   ]
  },
  {
   "cell_type": "code",
   "execution_count": 4,
   "id": "13380907-242e-4937-8d1d-2944809227ef",
   "metadata": {},
   "outputs": [],
   "source": [
    "# Load the data from the RAW folder\n",
    "df = pd.read_excel('../data/raw/online_retail_II.xlsx', sheet_name = 'Year 2010-2011')"
   ]
  },
  {
   "cell_type": "code",
   "execution_count": 5,
   "id": "d3fc2661-da11-49cf-8724-6f2c8ecedda6",
   "metadata": {},
   "outputs": [
    {
     "data": {
      "text/html": [
       "<div>\n",
       "<style scoped>\n",
       "    .dataframe tbody tr th:only-of-type {\n",
       "        vertical-align: middle;\n",
       "    }\n",
       "\n",
       "    .dataframe tbody tr th {\n",
       "        vertical-align: top;\n",
       "    }\n",
       "\n",
       "    .dataframe thead th {\n",
       "        text-align: right;\n",
       "    }\n",
       "</style>\n",
       "<table border=\"1\" class=\"dataframe\">\n",
       "  <thead>\n",
       "    <tr style=\"text-align: right;\">\n",
       "      <th></th>\n",
       "      <th>Invoice</th>\n",
       "      <th>StockCode</th>\n",
       "      <th>Description</th>\n",
       "      <th>Quantity</th>\n",
       "      <th>InvoiceDate</th>\n",
       "      <th>Price</th>\n",
       "      <th>Customer ID</th>\n",
       "      <th>Country</th>\n",
       "    </tr>\n",
       "  </thead>\n",
       "  <tbody>\n",
       "    <tr>\n",
       "      <th>0</th>\n",
       "      <td>536365</td>\n",
       "      <td>85123A</td>\n",
       "      <td>WHITE HANGING HEART T-LIGHT HOLDER</td>\n",
       "      <td>6</td>\n",
       "      <td>2010-12-01 08:26:00</td>\n",
       "      <td>2.55</td>\n",
       "      <td>17850.0</td>\n",
       "      <td>United Kingdom</td>\n",
       "    </tr>\n",
       "    <tr>\n",
       "      <th>1</th>\n",
       "      <td>536365</td>\n",
       "      <td>71053</td>\n",
       "      <td>WHITE METAL LANTERN</td>\n",
       "      <td>6</td>\n",
       "      <td>2010-12-01 08:26:00</td>\n",
       "      <td>3.39</td>\n",
       "      <td>17850.0</td>\n",
       "      <td>United Kingdom</td>\n",
       "    </tr>\n",
       "    <tr>\n",
       "      <th>2</th>\n",
       "      <td>536365</td>\n",
       "      <td>84406B</td>\n",
       "      <td>CREAM CUPID HEARTS COAT HANGER</td>\n",
       "      <td>8</td>\n",
       "      <td>2010-12-01 08:26:00</td>\n",
       "      <td>2.75</td>\n",
       "      <td>17850.0</td>\n",
       "      <td>United Kingdom</td>\n",
       "    </tr>\n",
       "    <tr>\n",
       "      <th>3</th>\n",
       "      <td>536365</td>\n",
       "      <td>84029G</td>\n",
       "      <td>KNITTED UNION FLAG HOT WATER BOTTLE</td>\n",
       "      <td>6</td>\n",
       "      <td>2010-12-01 08:26:00</td>\n",
       "      <td>3.39</td>\n",
       "      <td>17850.0</td>\n",
       "      <td>United Kingdom</td>\n",
       "    </tr>\n",
       "    <tr>\n",
       "      <th>4</th>\n",
       "      <td>536365</td>\n",
       "      <td>84029E</td>\n",
       "      <td>RED WOOLLY HOTTIE WHITE HEART.</td>\n",
       "      <td>6</td>\n",
       "      <td>2010-12-01 08:26:00</td>\n",
       "      <td>3.39</td>\n",
       "      <td>17850.0</td>\n",
       "      <td>United Kingdom</td>\n",
       "    </tr>\n",
       "  </tbody>\n",
       "</table>\n",
       "</div>"
      ],
      "text/plain": [
       "  Invoice StockCode                          Description  Quantity  \\\n",
       "0  536365    85123A   WHITE HANGING HEART T-LIGHT HOLDER         6   \n",
       "1  536365     71053                  WHITE METAL LANTERN         6   \n",
       "2  536365    84406B       CREAM CUPID HEARTS COAT HANGER         8   \n",
       "3  536365    84029G  KNITTED UNION FLAG HOT WATER BOTTLE         6   \n",
       "4  536365    84029E       RED WOOLLY HOTTIE WHITE HEART.         6   \n",
       "\n",
       "          InvoiceDate  Price  Customer ID         Country  \n",
       "0 2010-12-01 08:26:00   2.55      17850.0  United Kingdom  \n",
       "1 2010-12-01 08:26:00   3.39      17850.0  United Kingdom  \n",
       "2 2010-12-01 08:26:00   2.75      17850.0  United Kingdom  \n",
       "3 2010-12-01 08:26:00   3.39      17850.0  United Kingdom  \n",
       "4 2010-12-01 08:26:00   3.39      17850.0  United Kingdom  "
      ]
     },
     "execution_count": 5,
     "metadata": {},
     "output_type": "execute_result"
    }
   ],
   "source": [
    "df.head()"
   ]
  },
  {
   "cell_type": "code",
   "execution_count": 6,
   "id": "611b518d-8ebd-43bd-a357-b4c591ec59db",
   "metadata": {},
   "outputs": [],
   "source": [
    "# Create a copy of the dataframe to preserve the original data\n",
    "df_clean = df.copy()"
   ]
  },
  {
   "cell_type": "code",
   "execution_count": 7,
   "id": "28b4be93-0c6a-4523-91b2-b6e7ce476e89",
   "metadata": {},
   "outputs": [
    {
     "data": {
      "text/html": [
       "<div>\n",
       "<style scoped>\n",
       "    .dataframe tbody tr th:only-of-type {\n",
       "        vertical-align: middle;\n",
       "    }\n",
       "\n",
       "    .dataframe tbody tr th {\n",
       "        vertical-align: top;\n",
       "    }\n",
       "\n",
       "    .dataframe thead th {\n",
       "        text-align: right;\n",
       "    }\n",
       "</style>\n",
       "<table border=\"1\" class=\"dataframe\">\n",
       "  <thead>\n",
       "    <tr style=\"text-align: right;\">\n",
       "      <th></th>\n",
       "      <th>Invoice</th>\n",
       "      <th>StockCode</th>\n",
       "      <th>Description</th>\n",
       "      <th>Quantity</th>\n",
       "      <th>InvoiceDate</th>\n",
       "      <th>Price</th>\n",
       "      <th>Customer ID</th>\n",
       "      <th>Country</th>\n",
       "    </tr>\n",
       "  </thead>\n",
       "  <tbody>\n",
       "    <tr>\n",
       "      <th>0</th>\n",
       "      <td>536365</td>\n",
       "      <td>85123A</td>\n",
       "      <td>WHITE HANGING HEART T-LIGHT HOLDER</td>\n",
       "      <td>6</td>\n",
       "      <td>2010-12-01 08:26:00</td>\n",
       "      <td>2.55</td>\n",
       "      <td>17850.0</td>\n",
       "      <td>United Kingdom</td>\n",
       "    </tr>\n",
       "    <tr>\n",
       "      <th>1</th>\n",
       "      <td>536365</td>\n",
       "      <td>71053</td>\n",
       "      <td>WHITE METAL LANTERN</td>\n",
       "      <td>6</td>\n",
       "      <td>2010-12-01 08:26:00</td>\n",
       "      <td>3.39</td>\n",
       "      <td>17850.0</td>\n",
       "      <td>United Kingdom</td>\n",
       "    </tr>\n",
       "    <tr>\n",
       "      <th>2</th>\n",
       "      <td>536365</td>\n",
       "      <td>84406B</td>\n",
       "      <td>CREAM CUPID HEARTS COAT HANGER</td>\n",
       "      <td>8</td>\n",
       "      <td>2010-12-01 08:26:00</td>\n",
       "      <td>2.75</td>\n",
       "      <td>17850.0</td>\n",
       "      <td>United Kingdom</td>\n",
       "    </tr>\n",
       "    <tr>\n",
       "      <th>3</th>\n",
       "      <td>536365</td>\n",
       "      <td>84029G</td>\n",
       "      <td>KNITTED UNION FLAG HOT WATER BOTTLE</td>\n",
       "      <td>6</td>\n",
       "      <td>2010-12-01 08:26:00</td>\n",
       "      <td>3.39</td>\n",
       "      <td>17850.0</td>\n",
       "      <td>United Kingdom</td>\n",
       "    </tr>\n",
       "    <tr>\n",
       "      <th>4</th>\n",
       "      <td>536365</td>\n",
       "      <td>84029E</td>\n",
       "      <td>RED WOOLLY HOTTIE WHITE HEART.</td>\n",
       "      <td>6</td>\n",
       "      <td>2010-12-01 08:26:00</td>\n",
       "      <td>3.39</td>\n",
       "      <td>17850.0</td>\n",
       "      <td>United Kingdom</td>\n",
       "    </tr>\n",
       "  </tbody>\n",
       "</table>\n",
       "</div>"
      ],
      "text/plain": [
       "  Invoice StockCode                          Description  Quantity  \\\n",
       "0  536365    85123A   WHITE HANGING HEART T-LIGHT HOLDER         6   \n",
       "1  536365     71053                  WHITE METAL LANTERN         6   \n",
       "2  536365    84406B       CREAM CUPID HEARTS COAT HANGER         8   \n",
       "3  536365    84029G  KNITTED UNION FLAG HOT WATER BOTTLE         6   \n",
       "4  536365    84029E       RED WOOLLY HOTTIE WHITE HEART.         6   \n",
       "\n",
       "          InvoiceDate  Price  Customer ID         Country  \n",
       "0 2010-12-01 08:26:00   2.55      17850.0  United Kingdom  \n",
       "1 2010-12-01 08:26:00   3.39      17850.0  United Kingdom  \n",
       "2 2010-12-01 08:26:00   2.75      17850.0  United Kingdom  \n",
       "3 2010-12-01 08:26:00   3.39      17850.0  United Kingdom  \n",
       "4 2010-12-01 08:26:00   3.39      17850.0  United Kingdom  "
      ]
     },
     "execution_count": 7,
     "metadata": {},
     "output_type": "execute_result"
    }
   ],
   "source": [
    "df_clean.head()"
   ]
  },
  {
   "cell_type": "code",
   "execution_count": 8,
   "id": "f66fde03-284d-45bc-a7c1-0df7d400d5f7",
   "metadata": {},
   "outputs": [
    {
     "name": "stdout",
     "output_type": "stream",
     "text": [
      "Initial Shape: (541910, 8)\n",
      "<class 'pandas.core.frame.DataFrame'>\n",
      "RangeIndex: 541910 entries, 0 to 541909\n",
      "Data columns (total 8 columns):\n",
      " #   Column       Non-Null Count   Dtype         \n",
      "---  ------       --------------   -----         \n",
      " 0   Invoice      541910 non-null  object        \n",
      " 1   StockCode    541910 non-null  object        \n",
      " 2   Description  540456 non-null  object        \n",
      " 3   Quantity     541910 non-null  int64         \n",
      " 4   InvoiceDate  541910 non-null  datetime64[ns]\n",
      " 5   Price        541910 non-null  float64       \n",
      " 6   Customer ID  406830 non-null  float64       \n",
      " 7   Country      541910 non-null  object        \n",
      "dtypes: datetime64[ns](1), float64(2), int64(1), object(4)\n",
      "memory usage: 33.1+ MB\n"
     ]
    }
   ],
   "source": [
    "# Check the basic info again\n",
    "print(\"Initial Shape:\", df_clean.shape)\n",
    "df_clean.info()"
   ]
  },
  {
   "cell_type": "markdown",
   "id": "da723782-5590-4309-9942-a9697cca9b74",
   "metadata": {},
   "source": [
    "# 2. Data Cleaning & Preprocessing"
   ]
  },
  {
   "cell_type": "markdown",
   "id": "6cff9647-6194-4c54-b965-23017fa32c82",
   "metadata": {},
   "source": [
    "### 2.1 Handling Missing Values\n",
    "\n",
    "The `info()` method reveals missing values in the `CustomerID` and `Description` columns.\n",
    "\n",
    "- **CustomerID:** This is a critical field for our customer segmentation analysis. Rows without a valid `CustomerID` cannot be attributed to any customer and are therefore useless for our goal. **Action: These rows will be dropped.**\n",
    "- **Description:** While less critical, missing descriptions could indicate data entry errors. There are only a few hundred rows affected out of over 500,000. **Action: These rows will also be dropped to maintain a clean dataset.** An alternative would be to investigate by `StockCode` or fill with 'UNKNOWN', but removal is simpler for this analysis."
   ]
  },
  {
   "cell_type": "code",
   "execution_count": 9,
   "id": "d0324a06-2682-4daf-8284-9d0c27e49464",
   "metadata": {},
   "outputs": [
    {
     "name": "stdout",
     "output_type": "stream",
     "text": [
      "Missing Values Before Handling:\n",
      "Invoice             0\n",
      "StockCode           0\n",
      "Description      1454\n",
      "Quantity            0\n",
      "InvoiceDate         0\n",
      "Price               0\n",
      "Customer ID    135080\n",
      "Country             0\n",
      "dtype: int64\n"
     ]
    }
   ],
   "source": [
    "# Document the number of missing values before action\n",
    "print(\"Missing Values Before Handling:\")\n",
    "print(df_clean.isnull().sum())"
   ]
  },
  {
   "cell_type": "code",
   "execution_count": 10,
   "id": "0ea7e7c9-0b34-4ea3-90ce-2a9141179f9b",
   "metadata": {},
   "outputs": [
    {
     "name": "stdout",
     "output_type": "stream",
     "text": [
      "Missing Description: 1454\n",
      "Missing Customer ID: 135080\n",
      "Missing Both: 1454\n"
     ]
    }
   ],
   "source": [
    "# check whether the rows with missing Description are the same ones with missing Customer ID:\n",
    "\n",
    "# Rows where Description is missing\n",
    "missing_description = df_clean['Description'].isnull().sum()\n",
    "\n",
    "# Rows where Customer ID is missing\n",
    "missing_customer = df_clean['Customer ID'].isnull().sum()\n",
    "\n",
    "# Rows where BOTH Description and Customer ID are missing\n",
    "# .shape : Every Pandas DataFrame has a .shape attribute → returns a tuple (rows, columns).\n",
    "# Example: (100, 8) means 100 rows and 8 columns.\n",
    "# .shape[0] : [0] means we take only the number of rows.\n",
    "\n",
    "missing_both = df_clean[df_clean['Description'].isnull() & df_clean['Customer ID'].isnull()].shape[0]\n",
    "\n",
    "print(\"Missing Description:\", missing_description)\n",
    "print(\"Missing Customer ID:\", missing_customer)\n",
    "print(\"Missing Both:\", missing_both)"
   ]
  },
  {
   "cell_type": "code",
   "execution_count": 11,
   "id": "6c4db4fd-660d-4a53-b8c9-c962d5742398",
   "metadata": {},
   "outputs": [],
   "source": [
    "# 1. Drop rows where CustomerID is null\n",
    "# JUSTIFICATION: These transactions cannot be attributed to a customer,\n",
    "# making them useless for customer segmentation analysis.\n",
    "df_clean = df_clean.dropna(subset=['Customer ID'])"
   ]
  },
  {
   "cell_type": "code",
   "execution_count": 12,
   "id": "1f7a1501-82a7-4c70-bacf-52cbf37d96bd",
   "metadata": {},
   "outputs": [
    {
     "data": {
      "text/plain": [
       "Invoice        0\n",
       "StockCode      0\n",
       "Description    0\n",
       "Quantity       0\n",
       "InvoiceDate    0\n",
       "Price          0\n",
       "Customer ID    0\n",
       "Country        0\n",
       "dtype: int64"
      ]
     },
     "execution_count": 12,
     "metadata": {},
     "output_type": "execute_result"
    }
   ],
   "source": [
    "df_clean.isnull().sum()"
   ]
  },
  {
   "cell_type": "code",
   "execution_count": 13,
   "id": "3402ae9a-d5fc-4636-a63c-e7cbb986a7d5",
   "metadata": {},
   "outputs": [],
   "source": [
    "missing_descriptions = df_clean[df_clean['Description'].isnull()]"
   ]
  },
  {
   "cell_type": "code",
   "execution_count": 14,
   "id": "909adb10-4876-441f-97c0-a51fd008d92b",
   "metadata": {},
   "outputs": [
    {
     "data": {
      "text/html": [
       "<div>\n",
       "<style scoped>\n",
       "    .dataframe tbody tr th:only-of-type {\n",
       "        vertical-align: middle;\n",
       "    }\n",
       "\n",
       "    .dataframe tbody tr th {\n",
       "        vertical-align: top;\n",
       "    }\n",
       "\n",
       "    .dataframe thead th {\n",
       "        text-align: right;\n",
       "    }\n",
       "</style>\n",
       "<table border=\"1\" class=\"dataframe\">\n",
       "  <thead>\n",
       "    <tr style=\"text-align: right;\">\n",
       "      <th></th>\n",
       "      <th>Invoice</th>\n",
       "      <th>StockCode</th>\n",
       "      <th>Description</th>\n",
       "      <th>Quantity</th>\n",
       "      <th>InvoiceDate</th>\n",
       "      <th>Price</th>\n",
       "      <th>Customer ID</th>\n",
       "      <th>Country</th>\n",
       "    </tr>\n",
       "  </thead>\n",
       "  <tbody>\n",
       "  </tbody>\n",
       "</table>\n",
       "</div>"
      ],
      "text/plain": [
       "Empty DataFrame\n",
       "Columns: [Invoice, StockCode, Description, Quantity, InvoiceDate, Price, Customer ID, Country]\n",
       "Index: []"
      ]
     },
     "execution_count": 14,
     "metadata": {},
     "output_type": "execute_result"
    }
   ],
   "source": [
    "missing_descriptions"
   ]
  },
  {
   "cell_type": "code",
   "execution_count": 15,
   "id": "035b6dfb-b2d4-4144-aa7c-1eac5be4670c",
   "metadata": {},
   "outputs": [
    {
     "name": "stdout",
     "output_type": "stream",
     "text": [
      "\n",
      "Rows with missing Description: 0\n"
     ]
    }
   ],
   "source": [
    "# 2. For missing Description, let's see the corresponding StockCode\n",
    "# This is investigative. We might find the same StockCode has a description elsewhere.\n",
    "missing_descriptions = df_clean[df_clean['Description'].isnull()]\n",
    "print(f\"\\nRows with missing Description: {len(missing_descriptions)}\")"
   ]
  },
  {
   "cell_type": "code",
   "execution_count": 16,
   "id": "e2f0bbfc-282a-4a0a-8038-9ac375888156",
   "metadata": {},
   "outputs": [],
   "source": [
    "# If it's a small number, it's safer to drop them to avoid errors in analysis.\n",
    "# JUSTIFICATION: A small number of rows with critical missing information can be removed to maintain data integrity.\n",
    "\n",
    "df_clean = df_clean.dropna(subset=['Description'])"
   ]
  },
  {
   "cell_type": "code",
   "execution_count": 17,
   "id": "e7837e33-6d9b-4a69-b5c7-ac531b0378fe",
   "metadata": {},
   "outputs": [
    {
     "name": "stdout",
     "output_type": "stream",
     "text": [
      "\n",
      "Missing Values After Handling:\n",
      "Invoice        0\n",
      "StockCode      0\n",
      "Description    0\n",
      "Quantity       0\n",
      "InvoiceDate    0\n",
      "Price          0\n",
      "Customer ID    0\n",
      "Country        0\n",
      "dtype: int64\n"
     ]
    }
   ],
   "source": [
    "# Alternatively, you could fill them with a placeholder like 'Unknown'\n",
    "# df_clean['Description'].fillna('UNKNOWN', inplace=True)\n",
    "\n",
    "# Document the number of missing values after action\n",
    "print(\"\\nMissing Values After Handling:\")\n",
    "print(df_clean.isnull().sum())"
   ]
  },
  {
   "cell_type": "markdown",
   "id": "b1db8c63-c9f3-4ebd-86be-47556f5b5f92",
   "metadata": {},
   "source": [
    "### 2.2 Correcting Data Types\n",
    "\n",
    "The initial data inspection shows that the 'InvoiceDate' is stored as an object (string) instead of a datetime.\n",
    "The InvoiceDate is likely read as a string (object). We need it as a datetime object to perform time-based analysis.\n",
    "\n",
    ". **InvoiceDate:** This field must be a datetime object to perform time-based analysis and calculate the Recency component of RFM (Recency - refers to how recently a customer made a purchase, Frequency, Monetary). **Action: The column will be converted to a datetime type using 'pd.to_datetime()'.** This enables proper sorting, filtering, and date operations."
   ]
  },
  {
   "cell_type": "code",
   "execution_count": 18,
   "id": "60128f06-2166-4f0d-ac77-9c838b8c980e",
   "metadata": {},
   "outputs": [],
   "source": [
    "# Convert InvoiceDate to datetime\n",
    "# JUSTIFICATION: To enable time-series analysis and calculate recency.\n",
    "df_clean['InvoiceDate'] = pd.to_datetime(df_clean['InvoiceDate'])"
   ]
  },
  {
   "cell_type": "code",
   "execution_count": 19,
   "id": "21fd42c2-96b7-4c19-8dc6-c99870250686",
   "metadata": {},
   "outputs": [
    {
     "name": "stdout",
     "output_type": "stream",
     "text": [
      "\n",
      "InvoiceDate dtype after conversion: datetime64[ns]\n"
     ]
    }
   ],
   "source": [
    "# Verify the change\n",
    "print(\"\\nInvoiceDate dtype after conversion:\", df_clean['InvoiceDate'].dtype)"
   ]
  },
  {
   "cell_type": "markdown",
   "id": "a82abbf8-ffac-420e-8e14-3267ba41a566",
   "metadata": {},
   "source": [
    "### 2.3 Handling Duplicates\n",
    "\n",
    "The dataset contains a number of rows that are complete duplicates across all columns.\n",
    "\n",
    "**Duplicate Rows:** These entries likely represent data extraction errors and would skew summary statistics like total sales and order frequency. **Action: All duplicate rows will be identified and removed.** This ensures each transaction is only counted once for an accurate view of customer behavior."
   ]
  },
  {
   "cell_type": "code",
   "execution_count": 20,
   "id": "f75b218e-eaaa-43fb-928b-e74196fba220",
   "metadata": {},
   "outputs": [
    {
     "name": "stdout",
     "output_type": "stream",
     "text": [
      "Number of fully duplicate rows: 5225\n"
     ]
    }
   ],
   "source": [
    "# Check for full duplicate rows\n",
    "duplicate_rows = df_clean.duplicated().sum()\n",
    "print(f\"Number of fully duplicate rows: {duplicate_rows}\")"
   ]
  },
  {
   "cell_type": "code",
   "execution_count": 21,
   "id": "b5cf7149-f452-4068-a3ed-90bf4bc97434",
   "metadata": {},
   "outputs": [],
   "source": [
    "# Remove duplicates\n",
    "# JUSTIFICATION: Duplicate entries skew summary statistics and analysis.\n",
    "df_clean = df_clean.drop_duplicates()"
   ]
  },
  {
   "cell_type": "code",
   "execution_count": 22,
   "id": "b301fc7a-3cad-4360-8a3f-f3dd9040ca8b",
   "metadata": {},
   "outputs": [
    {
     "name": "stdout",
     "output_type": "stream",
     "text": [
      "Shape after removing duplicates: (401605, 8)\n"
     ]
    }
   ],
   "source": [
    "print(f\"Shape after removing duplicates: {df_clean.shape}\")"
   ]
  },
  {
   "cell_type": "markdown",
   "id": "4d289e09-031d-4af0-b0b4-0a4a66a309c1",
   "metadata": {},
   "source": [
    "### 2.4 Filtering Invalid Transactions\n",
    "This dataset is famous for having negative quantities and prices. These represent canceled orders or refunds. For an RFM analysis focused on purchasing behavior, we typically want to exclude cancellations.\n",
    "The descriptive statistics show negative values in the 'Quantity' and 'UnitPrice' columns.\n",
    "\n",
    "**Negative Quantities and Prices:** These values represent canceled orders, returns, or system adjustments, not actual purchases. **Action: Rows where 'Quantity' is less than or equal to 0 will be removed. Rows where 'UnitPrice' is less than or equal to 0 will also be removed.** This filters out non-purchase transactions to focus the analysis on genuine purchasing behavior."
   ]
  },
  {
   "cell_type": "code",
   "execution_count": 23,
   "id": "a5cdea16-0a8a-4333-88b6-857d7b186f1f",
   "metadata": {},
   "outputs": [
    {
     "name": "stdout",
     "output_type": "stream",
     "text": [
      "            Quantity                    InvoiceDate          Price  \\\n",
      "count  401605.000000                         401605  401605.000000   \n",
      "mean       12.183245  2011-07-10 12:08:56.555570944       3.474100   \n",
      "min    -80995.000000            2010-12-01 08:26:00       0.000000   \n",
      "25%         2.000000            2011-04-06 15:02:00       1.250000   \n",
      "50%         5.000000            2011-07-29 15:40:00       1.950000   \n",
      "75%        12.000000            2011-10-20 12:00:00       3.750000   \n",
      "max     80995.000000            2011-12-09 12:50:00   38970.000000   \n",
      "std       250.282726                            NaN      69.763952   \n",
      "\n",
      "         Customer ID  \n",
      "count  401605.000000  \n",
      "mean    15281.154341  \n",
      "min     12346.000000  \n",
      "25%     13939.000000  \n",
      "50%     15145.000000  \n",
      "75%     16784.000000  \n",
      "max     18287.000000  \n",
      "std      1714.008869  \n"
     ]
    }
   ],
   "source": [
    "# Inspect the descriptive statistics - you will see negative min values for Quantity\n",
    "print(df_clean.describe())"
   ]
  },
  {
   "cell_type": "code",
   "execution_count": 24,
   "id": "52ecf396-6e8c-4996-a5f8-76aa59a0957e",
   "metadata": {},
   "outputs": [
    {
     "name": "stdout",
     "output_type": "stream",
     "text": [
      "Shape before removing cancellations: (401605, 8)\n"
     ]
    }
   ],
   "source": [
    "# Filter out rows where Quantity is less than or equal to 0\n",
    "# JUSTIFICATION: Negative quantities represent canceled orders or returns,\n",
    "# which are not representative of purchasing behavior for segmentation.\n",
    "\n",
    "print(f\"Shape before removing cancellations: {df_clean.shape}\")"
   ]
  },
  {
   "cell_type": "code",
   "execution_count": 25,
   "id": "e93ba5ea-76b1-4716-b540-189f314215f6",
   "metadata": {},
   "outputs": [
    {
     "data": {
      "text/plain": [
       "0         True\n",
       "1         True\n",
       "2         True\n",
       "3         True\n",
       "4         True\n",
       "          ... \n",
       "541905    True\n",
       "541906    True\n",
       "541907    True\n",
       "541908    True\n",
       "541909    True\n",
       "Name: Quantity, Length: 401605, dtype: bool"
      ]
     },
     "execution_count": 25,
     "metadata": {},
     "output_type": "execute_result"
    }
   ],
   "source": [
    "df_clean['Quantity'] > 0"
   ]
  },
  {
   "cell_type": "code",
   "execution_count": 26,
   "id": "c9f5ce64-f15b-4587-bdce-0ae118b524f9",
   "metadata": {},
   "outputs": [
    {
     "name": "stdout",
     "output_type": "stream",
     "text": [
      "Shape after removing cancellations : (392733, 8)\n"
     ]
    }
   ],
   "source": [
    "# Using the Boolean series from the previous step, this expression selects only the rows where the condition df_clean['Quantity'] > 0 is True.\n",
    "df_clean = df_clean[df_clean['Quantity'] > 0]\n",
    "print(f\"Shape after removing cancellations : {df_clean.shape}\")"
   ]
  },
  {
   "cell_type": "code",
   "execution_count": 27,
   "id": "803a2a67-d301-446f-9155-0d0b56985a75",
   "metadata": {},
   "outputs": [],
   "source": [
    "# Filter out rows where UnitPrice is less than or equal to 0\n",
    "# JUSTIFICATION: Prices must be positive for valid transactions.\n",
    "\n",
    "df_clean = df_clean[df_clean['Price'] > 0]"
   ]
  },
  {
   "cell_type": "code",
   "execution_count": 28,
   "id": "90d77228-098e-41bf-96a9-b3f93b345e38",
   "metadata": {},
   "outputs": [
    {
     "data": {
      "text/plain": [
       "(392693, 8)"
      ]
     },
     "execution_count": 28,
     "metadata": {},
     "output_type": "execute_result"
    }
   ],
   "source": [
    "df_clean.shape"
   ]
  },
  {
   "cell_type": "markdown",
   "id": "14ff8de7-e867-4e30-b8d5-d80d5872fe0d",
   "metadata": {},
   "source": [
    "### 2.5 Managing Outliers\n",
    "A boxplot of the 'Quantity' column reveals extreme outliers that could distort the analysis.\n",
    "\n",
    "**Extreme Order Quantities:** A very small number of orders have abnormally high quantities. These could be valid wholesale orders or data errors. **Action: Values above the 99th percentile will be capped at that threshold.** This approach reduces the undue influence of extreme points on the analysis while preserving the customer data."
   ]
  },
  {
   "cell_type": "code",
   "execution_count": 29,
   "id": "1f3b1830-78f4-4696-98f8-4df175ef5d66",
   "metadata": {},
   "outputs": [
    {
     "data": {
      "image/png": "[encoded data removed]",
      "text/plain": [
       "<Figure size 1000x600 with 1 Axes>"
      ]
     },
     "metadata": {},
     "output_type": "display_data"
    }
   ],
   "source": [
    "# Handle extreme outliers (optional but good practice)\n",
    "# For example, a very small number of orders might have an incredibly high Quantity.\n",
    "# We can use the Interquartile Range (IQR) method to identify them visually or filter them.\n",
    "\n",
    "plt.figure(figsize = (10,6))\n",
    "sns.boxplot(data=df_clean, x='Quantity')\n",
    "plt.title('Boxplot of Quantity (to identify outliers)')\n",
    "plt.show()"
   ]
  },
  {
   "cell_type": "code",
   "execution_count": 30,
   "id": "70dbbda4-c80b-44fb-a5b6-ced98f75afb5",
   "metadata": {},
   "outputs": [],
   "source": [
    "# You might decide to cap extreme values instead of removing them to keep the data intact.\n",
    "# for example, cap Quantity at the 99th percentile.\n",
    "q99 = df_clean['Quantity'].quantile(0.99)\n",
    "df_clean = df_clean[df_clean['Quantity'] < q99]"
   ]
  },
  {
   "cell_type": "markdown",
   "id": "0e5663ac-bfc5-4c47-938d-882369da856a",
   "metadata": {},
   "source": [
    "### 2.6 Standardizing Values\n",
    "A value count of the 'Country' column shows multiple entries for the same country (e.g., 'EIRE').\n",
    "\n",
    "**Country Names:** Inconsistent country names would lead to incorrect geographic analysis. **Action: The Country column will be standardized by replacing known variants (e.g., 'EIRE' will be replaced with 'Ireland').** This ensures correct grouping and analysis by customer location.\n"
   ]
  },
  {
   "cell_type": "code",
   "execution_count": 31,
   "id": "5199342e-60f9-4bcf-ab84-07231e265a5d",
   "metadata": {},
   "outputs": [
    {
     "name": "stdout",
     "output_type": "stream",
     "text": [
      "Country\n",
      "United Kingdom          346054\n",
      "Germany                   8976\n",
      "France                    8276\n",
      "EIRE                      7018\n",
      "Spain                     2460\n",
      "Belgium                   2025\n",
      "Switzerland               1832\n",
      "Netherlands               1801\n",
      "Portugal                  1448\n",
      "Norway                    1060\n",
      "Australia                  930\n",
      "Italy                      756\n",
      "Channel Islands            742\n",
      "Finland                    674\n",
      "Cyprus                     600\n",
      "Austria                    394\n",
      "Denmark                    374\n",
      "Sweden                     341\n",
      "Poland                     330\n",
      "Japan                      294\n",
      "Israel                     245\n",
      "Unspecified                241\n",
      "Singapore                  221\n",
      "Iceland                    181\n",
      "USA                        179\n",
      "Canada                     149\n",
      "Greece                     145\n",
      "Malta                      112\n",
      "United Arab Emirates        68\n",
      "European Community          60\n",
      "RSA                         57\n",
      "Lebanon                     45\n",
      "Lithuania                   35\n",
      "Brazil                      32\n",
      "Czech Republic              25\n",
      "Bahrain                     17\n",
      "Saudi Arabia                 9\n",
      "Name: count, dtype: int64\n"
     ]
    }
   ],
   "source": [
    "# Check Country names - there might be typos or multiple entries for the same country (e.g., 'USA', 'U.S.A')\n",
    "print(df_clean['Country'].value_counts())\n",
    "\n",
    "# In this dataset, 'United Kingdom' is the main country. We might see 'EIRE' which is Ireland.\n",
    "# For this project, we can leave them as-is for country-based analysis, or group if necessary.\n",
    "# Example: Standardize 'EIRE' to 'Ireland'\n",
    "df_clean['Country'] = df_clean['Country'].replace({'EIRE': 'Ireland'})\n",
    "\n",
    "# Standardize text in Description (remove extra spaces, convert to uppercase/lowercase)\n",
    "# JUSTIFICATION: Ensures the same product is not listed multiple times due to case differences.\n",
    "df_clean['Description'] = df_clean['Description'].str.strip().str.upper()"
   ]
  },
  {
   "cell_type": "markdown",
   "id": "e128d8df-5146-4175-9e6a-64db66bea8d7",
   "metadata": {},
   "source": [
    "### 2.7 Final Output\n",
    "After the cleaning process is complete, the dataset will be saved to a new file.\n",
    "\n",
    "**Processed Dataset:** The final cleaned dataset is now ready for analysis. **Action: The cleaned DataFrame will be saved to 'data/processed/online_retail_ii_cleaned.csv.'** This preserves the original raw data and provides a clear, analysis-ready dataset for the next steps.\n"
   ]
  },
  {
   "cell_type": "code",
   "execution_count": 33,
   "id": "973cedaf-5b34-4e8f-a4e3-52a8888152f2",
   "metadata": {},
   "outputs": [
    {
     "name": "stdout",
     "output_type": "stream",
     "text": [
      "Final Shape: (388206, 8)\n",
      "\n",
      "Final Info:\n",
      "<class 'pandas.core.frame.DataFrame'>\n",
      "Index: 388206 entries, 0 to 541909\n",
      "Data columns (total 8 columns):\n",
      " #   Column       Non-Null Count   Dtype         \n",
      "---  ------       --------------   -----         \n",
      " 0   Invoice      388206 non-null  object        \n",
      " 1   StockCode    388206 non-null  object        \n",
      " 2   Description  388206 non-null  object        \n",
      " 3   Quantity     388206 non-null  int64         \n",
      " 4   InvoiceDate  388206 non-null  datetime64[ns]\n",
      " 5   Price        388206 non-null  float64       \n",
      " 6   Customer ID  388206 non-null  float64       \n",
      " 7   Country      388206 non-null  object        \n",
      "dtypes: datetime64[ns](1), float64(2), int64(1), object(4)\n",
      "memory usage: 26.7+ MB\n",
      "\n",
      "Sample of processed data:\n",
      "\n",
      "Cleaned data saved to 'data/processed/online_retail_ii_cleaned.csv'\n"
     ]
    }
   ],
   "source": [
    "# Final inspection\n",
    "print(\"Final Shape:\", df_clean.shape)\n",
    "print(\"\\nFinal Info:\")\n",
    "df_clean.info()\n",
    "print(\"\\nSample of processed data:\")\n",
    "df_clean.head()\n",
    "\n",
    "# Save the cleaned dataframe to a new CSV in the 'processed' folder\n",
    "# This creates a clear, analysis-ready dataset for the next steps.\n",
    "df_clean.to_csv('../data/processed/online_retail_ii_cleaned.csv', index=False)\n",
    "\n",
    "print(\"\\nCleaned data saved to 'data/processed/online_retail_ii_cleaned.csv'\")"
   ]
  },
  {
   "cell_type": "code",
   "execution_count": null,
   "id": "2ecece02-f8a9-49b3-816a-42b8c447e516",
   "metadata": {},
   "outputs": [],
   "source": []
  },
  {
   "cell_type": "code",
   "execution_count": null,
   "id": "7c49af74-49e1-4760-92a8-cec160e6bef0",
   "metadata": {},
   "outputs": [],
   "source": []
  }
 ],
 "metadata": {
  "kernelspec": {
   "display_name": "Python [conda env:base] *",
   "language": "python",
   "name": "conda-base-py"
  },
  "language_info": {
   "codemirror_mode": {
    "name": "ipython",
    "version": 3
   },
   "file_extension": ".py",
   "mimetype": "text/x-python",
   "name": "python",
   "nbconvert_exporter": "python",
   "pygments_lexer": "ipython3",
   "version": "3.13.5"
  }
 },
 "nbformat": 4,
 "nbformat_minor": 5
}
